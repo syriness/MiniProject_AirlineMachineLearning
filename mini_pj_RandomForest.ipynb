{
  "cells": [
    {
      "cell_type": "markdown",
      "metadata": {
        "id": "view-in-github",
        "colab_type": "text"
      },
      "source": [
        "<a href=\"https://colab.research.google.com/github/syriness/MiniProject_AirlineMachineLearning/blob/main/mini_pj_RandomForest.ipynb\" target=\"_parent\"><img src=\"https://colab.research.google.com/assets/colab-badge.svg\" alt=\"Open In Colab\"/></a>"
      ]
    },
    {
      "cell_type": "code",
      "execution_count": 1,
      "metadata": {
        "id": "y2YNWpGvKXrG"
      },
      "outputs": [],
      "source": [
        "# 필요 라이브러리 import\n",
        "import pandas as pd\n",
        "import matplotlib.pyplot as plt"
      ]
    },
    {
      "cell_type": "code",
      "execution_count": 2,
      "metadata": {
        "colab": {
          "base_uri": "https://localhost:8080/"
        },
        "id": "7jazjkVEKa4w",
        "outputId": "f5dd4441-00d3-4143-ccd5-b1095c6f3ae3"
      },
      "outputs": [
        {
          "output_type": "stream",
          "name": "stdout",
          "text": [
            "<class 'pandas.core.frame.DataFrame'>\n",
            "RangeIndex: 103904 entries, 0 to 103903\n",
            "Data columns (total 25 columns):\n",
            " #   Column                             Non-Null Count   Dtype  \n",
            "---  ------                             --------------   -----  \n",
            " 0   Unnamed: 0                         103904 non-null  int64  \n",
            " 1   id                                 103904 non-null  int64  \n",
            " 2   Gender                             103904 non-null  object \n",
            " 3   Customer Type                      103904 non-null  object \n",
            " 4   Age                                103904 non-null  int64  \n",
            " 5   Type of Travel                     103904 non-null  object \n",
            " 6   Class                              103904 non-null  object \n",
            " 7   Flight Distance                    103904 non-null  int64  \n",
            " 8   Inflight wifi service              103904 non-null  int64  \n",
            " 9   Departure/Arrival time convenient  103904 non-null  int64  \n",
            " 10  Ease of Online booking             103904 non-null  int64  \n",
            " 11  Gate location                      103904 non-null  int64  \n",
            " 12  Food and drink                     103904 non-null  int64  \n",
            " 13  Online boarding                    103904 non-null  int64  \n",
            " 14  Seat comfort                       103904 non-null  int64  \n",
            " 15  Inflight entertainment             103904 non-null  int64  \n",
            " 16  On-board service                   103904 non-null  int64  \n",
            " 17  Leg room service                   103904 non-null  int64  \n",
            " 18  Baggage handling                   103904 non-null  int64  \n",
            " 19  Checkin service                    103904 non-null  int64  \n",
            " 20  Inflight service                   103904 non-null  int64  \n",
            " 21  Cleanliness                        103904 non-null  int64  \n",
            " 22  Departure Delay in Minutes         103904 non-null  int64  \n",
            " 23  Arrival Delay in Minutes           103594 non-null  float64\n",
            " 24  satisfaction                       103904 non-null  object \n",
            "dtypes: float64(1), int64(19), object(5)\n",
            "memory usage: 19.8+ MB\n"
          ]
        }
      ],
      "source": [
        "# 데이터 읽어오기\n",
        "airline = pd.read_csv(\"https://raw.githubusercontent.com/syriness/MiniProject_AirlineMachineLearning/main/train.csv\")\n",
        "\n",
        "\n",
        "# 데이터 정보 확인\n",
        "airline.info()"
      ]
    },
    {
      "cell_type": "code",
      "execution_count": 3,
      "metadata": {
        "colab": {
          "base_uri": "https://localhost:8080/"
        },
        "id": "ex9yWYYHKeyT",
        "outputId": "dfdcad51-aa4c-40df-c1dc-2704b80661eb"
      },
      "outputs": [
        {
          "output_type": "execute_result",
          "data": {
            "text/plain": [
              "Unnamed: 0                             0\n",
              "id                                     0\n",
              "Gender                                 0\n",
              "Customer Type                          0\n",
              "Age                                    0\n",
              "Type of Travel                         0\n",
              "Class                                  0\n",
              "Flight Distance                        0\n",
              "Inflight wifi service                  0\n",
              "Departure/Arrival time convenient      0\n",
              "Ease of Online booking                 0\n",
              "Gate location                          0\n",
              "Food and drink                         0\n",
              "Online boarding                        0\n",
              "Seat comfort                           0\n",
              "Inflight entertainment                 0\n",
              "On-board service                       0\n",
              "Leg room service                       0\n",
              "Baggage handling                       0\n",
              "Checkin service                        0\n",
              "Inflight service                       0\n",
              "Cleanliness                            0\n",
              "Departure Delay in Minutes             0\n",
              "Arrival Delay in Minutes             310\n",
              "satisfaction                           0\n",
              "dtype: int64"
            ]
          },
          "metadata": {},
          "execution_count": 3
        }
      ],
      "source": [
        "# null값 확인\n",
        "airline.isnull().sum()"
      ]
    },
    {
      "cell_type": "code",
      "execution_count": 4,
      "metadata": {
        "id": "6e7gPZBCKjSp"
      },
      "outputs": [],
      "source": [
        "# 데이터 수에 비해 null값이 작기 때문에 그냥 제거함\n",
        "airline.dropna(inplace=True) "
      ]
    },
    {
      "cell_type": "code",
      "execution_count": 5,
      "metadata": {
        "id": "k13P9J7xKnTS"
      },
      "outputs": [],
      "source": [
        "# satisfaction 컬럼 인코딩\n",
        "from sklearn.preprocessing import LabelEncoder"
      ]
    },
    {
      "cell_type": "code",
      "execution_count": 6,
      "metadata": {
        "id": "5Rh5cOu3KpOc"
      },
      "outputs": [],
      "source": [
        "encoder = LabelEncoder() \n",
        "encoder.fit(airline[\"satisfaction\"])\n",
        "airline[\"satisfaction\"] = encoder.transform(airline[\"satisfaction\"])"
      ]
    },
    {
      "cell_type": "code",
      "execution_count": 7,
      "metadata": {
        "id": "qks_3wW_KsOt"
      },
      "outputs": [],
      "source": [
        "# 시험셋도 미리 불러오고 인코딩\n",
        "airline2 = pd.read_csv(\"https://raw.githubusercontent.com/syriness/MiniProject_AirlineMachineLearning/main/test.csv\")"
      ]
    },
    {
      "cell_type": "code",
      "execution_count": 8,
      "metadata": {
        "colab": {
          "base_uri": "https://localhost:8080/"
        },
        "id": "Abpl-qssKvTj",
        "outputId": "ac50f643-d9c6-40a2-8c24-185b9222599d"
      },
      "outputs": [
        {
          "output_type": "execute_result",
          "data": {
            "text/plain": [
              "Unnamed: 0                            0\n",
              "id                                    0\n",
              "Gender                                0\n",
              "Customer Type                         0\n",
              "Age                                   0\n",
              "Type of Travel                        0\n",
              "Class                                 0\n",
              "Flight Distance                       0\n",
              "Inflight wifi service                 0\n",
              "Departure/Arrival time convenient     0\n",
              "Ease of Online booking                0\n",
              "Gate location                         0\n",
              "Food and drink                        0\n",
              "Online boarding                       0\n",
              "Seat comfort                          0\n",
              "Inflight entertainment                0\n",
              "On-board service                      0\n",
              "Leg room service                      0\n",
              "Baggage handling                      0\n",
              "Checkin service                       0\n",
              "Inflight service                      0\n",
              "Cleanliness                           0\n",
              "Departure Delay in Minutes            0\n",
              "Arrival Delay in Minutes             83\n",
              "satisfaction                          0\n",
              "dtype: int64"
            ]
          },
          "metadata": {},
          "execution_count": 8
        }
      ],
      "source": [
        "airline2.isnull().sum()"
      ]
    },
    {
      "cell_type": "code",
      "execution_count": 9,
      "metadata": {
        "id": "MInJJl0YK0FS"
      },
      "outputs": [],
      "source": [
        "airline2.dropna(inplace=True)"
      ]
    },
    {
      "cell_type": "code",
      "execution_count": 10,
      "metadata": {
        "id": "GD2ej7OSK1iL"
      },
      "outputs": [],
      "source": [
        "airline_test = airline2[\"satisfaction\"]\n",
        "airline_test_X = airline2.iloc[:, 8:24]"
      ]
    },
    {
      "cell_type": "code",
      "execution_count": 11,
      "metadata": {
        "id": "tN_llqkEK5Rq"
      },
      "outputs": [],
      "source": [
        "encoder2 = LabelEncoder()\n",
        "encoder2.fit(airline_test)\n",
        "airline_test = encoder2.transform(airline_test)"
      ]
    },
    {
      "cell_type": "code",
      "execution_count": 12,
      "metadata": {
        "colab": {
          "base_uri": "https://localhost:8080/"
        },
        "id": "qC-l8VlHK77v",
        "outputId": "4e2bdf0e-825b-48d4-82b0-3976e06b4a1d"
      },
      "outputs": [
        {
          "output_type": "stream",
          "name": "stdout",
          "text": [
            "<class 'pandas.core.frame.DataFrame'>\n",
            "Int64Index: 25893 entries, 0 to 25975\n",
            "Data columns (total 16 columns):\n",
            " #   Column                             Non-Null Count  Dtype  \n",
            "---  ------                             --------------  -----  \n",
            " 0   Inflight wifi service              25893 non-null  int64  \n",
            " 1   Departure/Arrival time convenient  25893 non-null  int64  \n",
            " 2   Ease of Online booking             25893 non-null  int64  \n",
            " 3   Gate location                      25893 non-null  int64  \n",
            " 4   Food and drink                     25893 non-null  int64  \n",
            " 5   Online boarding                    25893 non-null  int64  \n",
            " 6   Seat comfort                       25893 non-null  int64  \n",
            " 7   Inflight entertainment             25893 non-null  int64  \n",
            " 8   On-board service                   25893 non-null  int64  \n",
            " 9   Leg room service                   25893 non-null  int64  \n",
            " 10  Baggage handling                   25893 non-null  int64  \n",
            " 11  Checkin service                    25893 non-null  int64  \n",
            " 12  Inflight service                   25893 non-null  int64  \n",
            " 13  Cleanliness                        25893 non-null  int64  \n",
            " 14  Departure Delay in Minutes         25893 non-null  int64  \n",
            " 15  Arrival Delay in Minutes           25893 non-null  float64\n",
            "dtypes: float64(1), int64(15)\n",
            "memory usage: 3.4 MB\n"
          ]
        }
      ],
      "source": [
        "airline_test_X.info()"
      ]
    },
    {
      "cell_type": "code",
      "execution_count": 13,
      "metadata": {
        "colab": {
          "base_uri": "https://localhost:8080/",
          "height": 540
        },
        "id": "GXbYmzCtMBi9",
        "outputId": "d6eea34b-e848-496a-dbba-7736225c354c"
      },
      "outputs": [
        {
          "output_type": "execute_result",
          "data": {
            "text/plain": [
              "       Inflight wifi service  Departure/Arrival time convenient  \\\n",
              "0                          5                                  4   \n",
              "1                          1                                  1   \n",
              "2                          2                                  0   \n",
              "3                          0                                  0   \n",
              "4                          2                                  3   \n",
              "...                      ...                                ...   \n",
              "25971                      3                                  3   \n",
              "25972                      4                                  4   \n",
              "25973                      2                                  5   \n",
              "25974                      3                                  3   \n",
              "25975                      2                                  5   \n",
              "\n",
              "       Ease of Online booking  Gate location  Food and drink  Online boarding  \\\n",
              "0                           3              4               3                4   \n",
              "1                           3              1               5                4   \n",
              "2                           2              4               2                2   \n",
              "3                           0              2               3                4   \n",
              "4                           4              3               4                1   \n",
              "...                       ...            ...             ...              ...   \n",
              "25971                       3              1               4                3   \n",
              "25972                       4              4               4                4   \n",
              "25973                       1              5               2                1   \n",
              "25974                       3              3               4                4   \n",
              "25975                       2              5               4                2   \n",
              "\n",
              "       Seat comfort  Inflight entertainment  On-board service  \\\n",
              "0                 3                       5                 5   \n",
              "1                 5                       4                 4   \n",
              "2                 2                       2                 4   \n",
              "3                 4                       1                 1   \n",
              "4                 2                       2                 2   \n",
              "...             ...                     ...               ...   \n",
              "25971             4                       4                 3   \n",
              "25972             4                       4                 4   \n",
              "25973             2                       2                 4   \n",
              "25974             4                       4                 3   \n",
              "25975             2                       1                 1   \n",
              "\n",
              "       Leg room service  Baggage handling  Checkin service  Inflight service  \\\n",
              "0                     5                 5                2                 5   \n",
              "1                     4                 4                3                 4   \n",
              "2                     1                 3                2                 2   \n",
              "3                     1                 1                3                 1   \n",
              "4                     2                 2                4                 2   \n",
              "...                 ...               ...              ...               ...   \n",
              "25971                 2                 4                4                 5   \n",
              "25972                 5                 5                5                 5   \n",
              "25973                 3                 4                5                 4   \n",
              "25974                 2                 5                4                 5   \n",
              "25975                 2                 1                1                 1   \n",
              "\n",
              "       Cleanliness  Departure Delay in Minutes  Arrival Delay in Minutes  \n",
              "0                5                          50                        44  \n",
              "1                5                           0                         0  \n",
              "2                2                           0                         0  \n",
              "3                4                           0                         6  \n",
              "4                4                           0                        20  \n",
              "...            ...                         ...                       ...  \n",
              "25971            4                           0                         0  \n",
              "25972            4                           0                         0  \n",
              "25973            2                           0                         0  \n",
              "25974            4                           0                         0  \n",
              "25975            1                           0                         0  \n",
              "\n",
              "[25893 rows x 16 columns]"
            ],
            "text/html": [
              "\n",
              "  <div id=\"df-7595aeb1-d671-400c-a1ae-f1b69b537f92\">\n",
              "    <div class=\"colab-df-container\">\n",
              "      <div>\n",
              "<style scoped>\n",
              "    .dataframe tbody tr th:only-of-type {\n",
              "        vertical-align: middle;\n",
              "    }\n",
              "\n",
              "    .dataframe tbody tr th {\n",
              "        vertical-align: top;\n",
              "    }\n",
              "\n",
              "    .dataframe thead th {\n",
              "        text-align: right;\n",
              "    }\n",
              "</style>\n",
              "<table border=\"1\" class=\"dataframe\">\n",
              "  <thead>\n",
              "    <tr style=\"text-align: right;\">\n",
              "      <th></th>\n",
              "      <th>Inflight wifi service</th>\n",
              "      <th>Departure/Arrival time convenient</th>\n",
              "      <th>Ease of Online booking</th>\n",
              "      <th>Gate location</th>\n",
              "      <th>Food and drink</th>\n",
              "      <th>Online boarding</th>\n",
              "      <th>Seat comfort</th>\n",
              "      <th>Inflight entertainment</th>\n",
              "      <th>On-board service</th>\n",
              "      <th>Leg room service</th>\n",
              "      <th>Baggage handling</th>\n",
              "      <th>Checkin service</th>\n",
              "      <th>Inflight service</th>\n",
              "      <th>Cleanliness</th>\n",
              "      <th>Departure Delay in Minutes</th>\n",
              "      <th>Arrival Delay in Minutes</th>\n",
              "    </tr>\n",
              "  </thead>\n",
              "  <tbody>\n",
              "    <tr>\n",
              "      <th>0</th>\n",
              "      <td>5</td>\n",
              "      <td>4</td>\n",
              "      <td>3</td>\n",
              "      <td>4</td>\n",
              "      <td>3</td>\n",
              "      <td>4</td>\n",
              "      <td>3</td>\n",
              "      <td>5</td>\n",
              "      <td>5</td>\n",
              "      <td>5</td>\n",
              "      <td>5</td>\n",
              "      <td>2</td>\n",
              "      <td>5</td>\n",
              "      <td>5</td>\n",
              "      <td>50</td>\n",
              "      <td>44</td>\n",
              "    </tr>\n",
              "    <tr>\n",
              "      <th>1</th>\n",
              "      <td>1</td>\n",
              "      <td>1</td>\n",
              "      <td>3</td>\n",
              "      <td>1</td>\n",
              "      <td>5</td>\n",
              "      <td>4</td>\n",
              "      <td>5</td>\n",
              "      <td>4</td>\n",
              "      <td>4</td>\n",
              "      <td>4</td>\n",
              "      <td>4</td>\n",
              "      <td>3</td>\n",
              "      <td>4</td>\n",
              "      <td>5</td>\n",
              "      <td>0</td>\n",
              "      <td>0</td>\n",
              "    </tr>\n",
              "    <tr>\n",
              "      <th>2</th>\n",
              "      <td>2</td>\n",
              "      <td>0</td>\n",
              "      <td>2</td>\n",
              "      <td>4</td>\n",
              "      <td>2</td>\n",
              "      <td>2</td>\n",
              "      <td>2</td>\n",
              "      <td>2</td>\n",
              "      <td>4</td>\n",
              "      <td>1</td>\n",
              "      <td>3</td>\n",
              "      <td>2</td>\n",
              "      <td>2</td>\n",
              "      <td>2</td>\n",
              "      <td>0</td>\n",
              "      <td>0</td>\n",
              "    </tr>\n",
              "    <tr>\n",
              "      <th>3</th>\n",
              "      <td>0</td>\n",
              "      <td>0</td>\n",
              "      <td>0</td>\n",
              "      <td>2</td>\n",
              "      <td>3</td>\n",
              "      <td>4</td>\n",
              "      <td>4</td>\n",
              "      <td>1</td>\n",
              "      <td>1</td>\n",
              "      <td>1</td>\n",
              "      <td>1</td>\n",
              "      <td>3</td>\n",
              "      <td>1</td>\n",
              "      <td>4</td>\n",
              "      <td>0</td>\n",
              "      <td>6</td>\n",
              "    </tr>\n",
              "    <tr>\n",
              "      <th>4</th>\n",
              "      <td>2</td>\n",
              "      <td>3</td>\n",
              "      <td>4</td>\n",
              "      <td>3</td>\n",
              "      <td>4</td>\n",
              "      <td>1</td>\n",
              "      <td>2</td>\n",
              "      <td>2</td>\n",
              "      <td>2</td>\n",
              "      <td>2</td>\n",
              "      <td>2</td>\n",
              "      <td>4</td>\n",
              "      <td>2</td>\n",
              "      <td>4</td>\n",
              "      <td>0</td>\n",
              "      <td>20</td>\n",
              "    </tr>\n",
              "    <tr>\n",
              "      <th>...</th>\n",
              "      <td>...</td>\n",
              "      <td>...</td>\n",
              "      <td>...</td>\n",
              "      <td>...</td>\n",
              "      <td>...</td>\n",
              "      <td>...</td>\n",
              "      <td>...</td>\n",
              "      <td>...</td>\n",
              "      <td>...</td>\n",
              "      <td>...</td>\n",
              "      <td>...</td>\n",
              "      <td>...</td>\n",
              "      <td>...</td>\n",
              "      <td>...</td>\n",
              "      <td>...</td>\n",
              "      <td>...</td>\n",
              "    </tr>\n",
              "    <tr>\n",
              "      <th>25971</th>\n",
              "      <td>3</td>\n",
              "      <td>3</td>\n",
              "      <td>3</td>\n",
              "      <td>1</td>\n",
              "      <td>4</td>\n",
              "      <td>3</td>\n",
              "      <td>4</td>\n",
              "      <td>4</td>\n",
              "      <td>3</td>\n",
              "      <td>2</td>\n",
              "      <td>4</td>\n",
              "      <td>4</td>\n",
              "      <td>5</td>\n",
              "      <td>4</td>\n",
              "      <td>0</td>\n",
              "      <td>0</td>\n",
              "    </tr>\n",
              "    <tr>\n",
              "      <th>25972</th>\n",
              "      <td>4</td>\n",
              "      <td>4</td>\n",
              "      <td>4</td>\n",
              "      <td>4</td>\n",
              "      <td>4</td>\n",
              "      <td>4</td>\n",
              "      <td>4</td>\n",
              "      <td>4</td>\n",
              "      <td>4</td>\n",
              "      <td>5</td>\n",
              "      <td>5</td>\n",
              "      <td>5</td>\n",
              "      <td>5</td>\n",
              "      <td>4</td>\n",
              "      <td>0</td>\n",
              "      <td>0</td>\n",
              "    </tr>\n",
              "    <tr>\n",
              "      <th>25973</th>\n",
              "      <td>2</td>\n",
              "      <td>5</td>\n",
              "      <td>1</td>\n",
              "      <td>5</td>\n",
              "      <td>2</td>\n",
              "      <td>1</td>\n",
              "      <td>2</td>\n",
              "      <td>2</td>\n",
              "      <td>4</td>\n",
              "      <td>3</td>\n",
              "      <td>4</td>\n",
              "      <td>5</td>\n",
              "      <td>4</td>\n",
              "      <td>2</td>\n",
              "      <td>0</td>\n",
              "      <td>0</td>\n",
              "    </tr>\n",
              "    <tr>\n",
              "      <th>25974</th>\n",
              "      <td>3</td>\n",
              "      <td>3</td>\n",
              "      <td>3</td>\n",
              "      <td>3</td>\n",
              "      <td>4</td>\n",
              "      <td>4</td>\n",
              "      <td>4</td>\n",
              "      <td>4</td>\n",
              "      <td>3</td>\n",
              "      <td>2</td>\n",
              "      <td>5</td>\n",
              "      <td>4</td>\n",
              "      <td>5</td>\n",
              "      <td>4</td>\n",
              "      <td>0</td>\n",
              "      <td>0</td>\n",
              "    </tr>\n",
              "    <tr>\n",
              "      <th>25975</th>\n",
              "      <td>2</td>\n",
              "      <td>5</td>\n",
              "      <td>2</td>\n",
              "      <td>5</td>\n",
              "      <td>4</td>\n",
              "      <td>2</td>\n",
              "      <td>2</td>\n",
              "      <td>1</td>\n",
              "      <td>1</td>\n",
              "      <td>2</td>\n",
              "      <td>1</td>\n",
              "      <td>1</td>\n",
              "      <td>1</td>\n",
              "      <td>1</td>\n",
              "      <td>0</td>\n",
              "      <td>0</td>\n",
              "    </tr>\n",
              "  </tbody>\n",
              "</table>\n",
              "<p>25893 rows × 16 columns</p>\n",
              "</div>\n",
              "      <button class=\"colab-df-convert\" onclick=\"convertToInteractive('df-7595aeb1-d671-400c-a1ae-f1b69b537f92')\"\n",
              "              title=\"Convert this dataframe to an interactive table.\"\n",
              "              style=\"display:none;\">\n",
              "        \n",
              "  <svg xmlns=\"http://www.w3.org/2000/svg\" height=\"24px\"viewBox=\"0 0 24 24\"\n",
              "       width=\"24px\">\n",
              "    <path d=\"M0 0h24v24H0V0z\" fill=\"none\"/>\n",
              "    <path d=\"M18.56 5.44l.94 2.06.94-2.06 2.06-.94-2.06-.94-.94-2.06-.94 2.06-2.06.94zm-11 1L8.5 8.5l.94-2.06 2.06-.94-2.06-.94L8.5 2.5l-.94 2.06-2.06.94zm10 10l.94 2.06.94-2.06 2.06-.94-2.06-.94-.94-2.06-.94 2.06-2.06.94z\"/><path d=\"M17.41 7.96l-1.37-1.37c-.4-.4-.92-.59-1.43-.59-.52 0-1.04.2-1.43.59L10.3 9.45l-7.72 7.72c-.78.78-.78 2.05 0 2.83L4 21.41c.39.39.9.59 1.41.59.51 0 1.02-.2 1.41-.59l7.78-7.78 2.81-2.81c.8-.78.8-2.07 0-2.86zM5.41 20L4 18.59l7.72-7.72 1.47 1.35L5.41 20z\"/>\n",
              "  </svg>\n",
              "      </button>\n",
              "      \n",
              "  <style>\n",
              "    .colab-df-container {\n",
              "      display:flex;\n",
              "      flex-wrap:wrap;\n",
              "      gap: 12px;\n",
              "    }\n",
              "\n",
              "    .colab-df-convert {\n",
              "      background-color: #E8F0FE;\n",
              "      border: none;\n",
              "      border-radius: 50%;\n",
              "      cursor: pointer;\n",
              "      display: none;\n",
              "      fill: #1967D2;\n",
              "      height: 32px;\n",
              "      padding: 0 0 0 0;\n",
              "      width: 32px;\n",
              "    }\n",
              "\n",
              "    .colab-df-convert:hover {\n",
              "      background-color: #E2EBFA;\n",
              "      box-shadow: 0px 1px 2px rgba(60, 64, 67, 0.3), 0px 1px 3px 1px rgba(60, 64, 67, 0.15);\n",
              "      fill: #174EA6;\n",
              "    }\n",
              "\n",
              "    [theme=dark] .colab-df-convert {\n",
              "      background-color: #3B4455;\n",
              "      fill: #D2E3FC;\n",
              "    }\n",
              "\n",
              "    [theme=dark] .colab-df-convert:hover {\n",
              "      background-color: #434B5C;\n",
              "      box-shadow: 0px 1px 3px 1px rgba(0, 0, 0, 0.15);\n",
              "      filter: drop-shadow(0px 1px 2px rgba(0, 0, 0, 0.3));\n",
              "      fill: #FFFFFF;\n",
              "    }\n",
              "  </style>\n",
              "\n",
              "      <script>\n",
              "        const buttonEl =\n",
              "          document.querySelector('#df-7595aeb1-d671-400c-a1ae-f1b69b537f92 button.colab-df-convert');\n",
              "        buttonEl.style.display =\n",
              "          google.colab.kernel.accessAllowed ? 'block' : 'none';\n",
              "\n",
              "        async function convertToInteractive(key) {\n",
              "          const element = document.querySelector('#df-7595aeb1-d671-400c-a1ae-f1b69b537f92');\n",
              "          const dataTable =\n",
              "            await google.colab.kernel.invokeFunction('convertToInteractive',\n",
              "                                                     [key], {});\n",
              "          if (!dataTable) return;\n",
              "\n",
              "          const docLinkHtml = 'Like what you see? Visit the ' +\n",
              "            '<a target=\"_blank\" href=https://colab.research.google.com/notebooks/data_table.ipynb>data table notebook</a>'\n",
              "            + ' to learn more about interactive tables.';\n",
              "          element.innerHTML = '';\n",
              "          dataTable['output_type'] = 'display_data';\n",
              "          await google.colab.output.renderOutput(dataTable, element);\n",
              "          const docLink = document.createElement('div');\n",
              "          docLink.innerHTML = docLinkHtml;\n",
              "          element.appendChild(docLink);\n",
              "        }\n",
              "      </script>\n",
              "    </div>\n",
              "  </div>\n",
              "  "
            ]
          },
          "metadata": {},
          "execution_count": 13
        }
      ],
      "source": [
        "airline_test_X.astype(int)"
      ]
    },
    {
      "cell_type": "code",
      "execution_count": 14,
      "metadata": {
        "colab": {
          "base_uri": "https://localhost:8080/"
        },
        "id": "LwnEpIi8MF2l",
        "outputId": "e65a202a-7879-4289-d449-92d963151f1f"
      },
      "outputs": [
        {
          "output_type": "execute_result",
          "data": {
            "text/plain": [
              "array([1, 1, 0, ..., 0, 1, 0])"
            ]
          },
          "metadata": {},
          "execution_count": 14
        }
      ],
      "source": [
        "airline_test"
      ]
    },
    {
      "cell_type": "code",
      "execution_count": 15,
      "metadata": {
        "id": "E80jawB3K99Y"
      },
      "outputs": [],
      "source": [
        "# 고객 평가지표 데이터프레임\n",
        "airline_score = airline.iloc[:, 8:24]"
      ]
    },
    {
      "cell_type": "code",
      "execution_count": 16,
      "metadata": {
        "colab": {
          "base_uri": "https://localhost:8080/"
        },
        "id": "t8D9zq54LARr",
        "outputId": "b21c0a33-dcea-486c-8d38-bac49e022a8a"
      },
      "outputs": [
        {
          "output_type": "stream",
          "name": "stdout",
          "text": [
            "<class 'pandas.core.frame.DataFrame'>\n",
            "Int64Index: 103594 entries, 0 to 103903\n",
            "Data columns (total 16 columns):\n",
            " #   Column                             Non-Null Count   Dtype  \n",
            "---  ------                             --------------   -----  \n",
            " 0   Inflight wifi service              103594 non-null  int64  \n",
            " 1   Departure/Arrival time convenient  103594 non-null  int64  \n",
            " 2   Ease of Online booking             103594 non-null  int64  \n",
            " 3   Gate location                      103594 non-null  int64  \n",
            " 4   Food and drink                     103594 non-null  int64  \n",
            " 5   Online boarding                    103594 non-null  int64  \n",
            " 6   Seat comfort                       103594 non-null  int64  \n",
            " 7   Inflight entertainment             103594 non-null  int64  \n",
            " 8   On-board service                   103594 non-null  int64  \n",
            " 9   Leg room service                   103594 non-null  int64  \n",
            " 10  Baggage handling                   103594 non-null  int64  \n",
            " 11  Checkin service                    103594 non-null  int64  \n",
            " 12  Inflight service                   103594 non-null  int64  \n",
            " 13  Cleanliness                        103594 non-null  int64  \n",
            " 14  Departure Delay in Minutes         103594 non-null  int64  \n",
            " 15  Arrival Delay in Minutes           103594 non-null  float64\n",
            "dtypes: float64(1), int64(15)\n",
            "memory usage: 13.4 MB\n"
          ]
        }
      ],
      "source": [
        "# 학습 전 데이터 전처리\n",
        "airline_score.info()\n",
        "airline_score.astype(int) # 컬럼 하나가 실수형이라 정수형으로 바꿔줌\n",
        "airline_score[\"satisfaction\"] = airline[\"satisfaction\"]"
      ]
    },
    {
      "cell_type": "code",
      "execution_count": 17,
      "metadata": {
        "id": "NkaqV2PKLCf7"
      },
      "outputs": [],
      "source": [
        "# X, y 정의\n",
        "X = airline_score.drop([\"satisfaction\"], axis=1)\n",
        "y = airline_score[\"satisfaction\"]"
      ]
    },
    {
      "cell_type": "code",
      "execution_count": 18,
      "metadata": {
        "colab": {
          "base_uri": "https://localhost:8080/"
        },
        "id": "2akOS12jMVel",
        "outputId": "6c8b352a-f095-4c6a-a1b5-ca8c4968ff67"
      },
      "outputs": [
        {
          "output_type": "stream",
          "name": "stdout",
          "text": [
            "<class 'pandas.core.frame.DataFrame'>\n",
            "Int64Index: 103594 entries, 0 to 103903\n",
            "Data columns (total 16 columns):\n",
            " #   Column                             Non-Null Count   Dtype  \n",
            "---  ------                             --------------   -----  \n",
            " 0   Inflight wifi service              103594 non-null  int64  \n",
            " 1   Departure/Arrival time convenient  103594 non-null  int64  \n",
            " 2   Ease of Online booking             103594 non-null  int64  \n",
            " 3   Gate location                      103594 non-null  int64  \n",
            " 4   Food and drink                     103594 non-null  int64  \n",
            " 5   Online boarding                    103594 non-null  int64  \n",
            " 6   Seat comfort                       103594 non-null  int64  \n",
            " 7   Inflight entertainment             103594 non-null  int64  \n",
            " 8   On-board service                   103594 non-null  int64  \n",
            " 9   Leg room service                   103594 non-null  int64  \n",
            " 10  Baggage handling                   103594 non-null  int64  \n",
            " 11  Checkin service                    103594 non-null  int64  \n",
            " 12  Inflight service                   103594 non-null  int64  \n",
            " 13  Cleanliness                        103594 non-null  int64  \n",
            " 14  Departure Delay in Minutes         103594 non-null  int64  \n",
            " 15  Arrival Delay in Minutes           103594 non-null  float64\n",
            "dtypes: float64(1), int64(15)\n",
            "memory usage: 13.4 MB\n"
          ]
        }
      ],
      "source": [
        "X.info()"
      ]
    },
    {
      "cell_type": "code",
      "execution_count": 19,
      "metadata": {
        "colab": {
          "base_uri": "https://localhost:8080/"
        },
        "id": "axEzZbv4MXFI",
        "outputId": "6ea1b515-5c99-4803-b525-ed2c6b9e6544"
      },
      "outputs": [
        {
          "output_type": "execute_result",
          "data": {
            "text/plain": [
              "0         0\n",
              "1         0\n",
              "2         1\n",
              "3         0\n",
              "4         1\n",
              "         ..\n",
              "103899    0\n",
              "103900    1\n",
              "103901    0\n",
              "103902    0\n",
              "103903    0\n",
              "Name: satisfaction, Length: 103594, dtype: int64"
            ]
          },
          "metadata": {},
          "execution_count": 19
        }
      ],
      "source": [
        "y"
      ]
    },
    {
      "cell_type": "code",
      "execution_count": 20,
      "metadata": {
        "id": "3shf6HbVMbA6"
      },
      "outputs": [],
      "source": [
        "# 평가지표 함수 정의\n",
        "from sklearn.metrics import accuracy_score, precision_score, recall_score\n",
        "from sklearn.metrics import roc_auc_score\n",
        "from sklearn.metrics import f1_score\n",
        "from sklearn.metrics import confusion_matrix\n",
        "import numpy as np\n",
        "import seaborn as sns\n",
        "\n",
        "def evaluation(airline_test, pred):\n",
        "    acc = accuracy_score(airline_test, pred)\n",
        "    pre = precision_score(airline_test, pred)\n",
        "    rec = recall_score(airline_test, pred)\n",
        "    f1 = f1_score(airline_test, pred)\n",
        "    roc = roc_auc_score(airline_test, pred)\n",
        "    cf_matrix = confusion_matrix(airline_test, pred)\n",
        "    print(\"정확도: {0:.4f}\".format(acc))\n",
        "    print(\"정밀도: {0:.4f}\".format(pre))\n",
        "    print(\"재현율: {0:.4f}\".format(rec))\n",
        "    print(\"f1 score: {0:.4f}\".format(f1))\n",
        "    print(\"roc_auc_score: {0:.4f}\".format(roc))\n",
        "    group_names = ['TN','FP','FN','TP']\n",
        "    group_counts = [\"{0:0.0f}\".format(value) for value in cf_matrix.flatten()]\n",
        "    group_percentages = [\"{0:.2%}\".format(value) for value in cf_matrix.flatten() / np.sum(cf_matrix)]\n",
        "    labels = [f\"{v1}\\n{v2}\\n{v3}\" for v1, v2, v3 in zip(group_names,group_counts,group_percentages)]\n",
        "    labels = np.asarray(labels).reshape(2,2)\n",
        "    sns.heatmap(cf_matrix, annot=labels, fmt='', cmap='coolwarm')\n",
        "    plt.ylabel('True')\n",
        "    plt.xlabel('Predicted')\n",
        "    plt.show()"
      ]
    },
    {
      "cell_type": "code",
      "execution_count": 21,
      "metadata": {
        "id": "Za1Gdq9fN3hX"
      },
      "outputs": [],
      "source": [
        "from sklearn.ensemble import RandomForestClassifier\n",
        "\n",
        "def rf_tuning(train_set, test_set, parameters):\n",
        "    model = RandomForestClassifier()\n",
        "    grid = GridSearchCV(model, parameters, scoring=\"roc_auc\", cv=5, n_jobs=-1, refit = True) # cv=K-fold\n",
        "    grid.fit(train_set, test_set)\n",
        "    return grid.best_params_, grid.best_score_"
      ]
    },
    {
      "cell_type": "code",
      "execution_count": 22,
      "metadata": {
        "id": "-wE-l2ziNqCO"
      },
      "outputs": [],
      "source": [
        "#@title 그리드 서치\n",
        "from sklearn.model_selection import GridSearchCV"
      ]
    },
    {
      "cell_type": "code",
      "execution_count": 23,
      "metadata": {
        "id": "K4WxPGAxWTvY"
      },
      "outputs": [],
      "source": [
        "rf_params1 = {\n",
        "    'max_depth': [5, 7, 10], # 트리의 깊이 (오버피팅) 10\n",
        "    'n_estimators': [100, 200, 300], # 트리 개수 300\n",
        "    'min_samples_split':[5, 10, 30], # 노드를 분할하기 위한 최소한의 샘플 데이터 수 10\n",
        "    \"min_samples_leaf\":[5, 10, 15] # 말단 노드가 되기 위한 최소한의 샘플 데이터 수 15\n",
        "}"
      ]
    },
    {
      "cell_type": "code",
      "execution_count": 24,
      "metadata": {
        "id": "jWDmkJP8ODoo"
      },
      "outputs": [],
      "source": [
        "rf_params2 = {\n",
        "    'max_depth': [5, 10, 20], \n",
        "    'n_estimators': [150, 300, 350], \n",
        "    'min_samples_split':[5, 10, 15],\n",
        "    \"min_samples_leaf\":[2,3,5]\n",
        "}"
      ]
    },
    {
      "cell_type": "code",
      "execution_count": 25,
      "metadata": {
        "id": "lXgeiYsmOFod"
      },
      "outputs": [],
      "source": [
        "rf_params3 = {\n",
        "    'max_depth': [10, 12, 15], \n",
        "    'n_estimators': [200, 500, 700], \n",
        "    'min_samples_split':[10, 20, 30],\n",
        "    \"min_samples_leaf\":[2,3,5,7]\n",
        "}"
      ]
    },
    {
      "cell_type": "code",
      "execution_count": 40,
      "metadata": {
        "id": "S9567LD5mH5K"
      },
      "outputs": [],
      "source": [
        "#@title 결과 : max_depth - 10, n_estimators - 300, min_samples_split - 10, min_samples_leaf- 15\n",
        "rf_tuning(X, y, rf_params1)"
      ]
    },
    {
      "cell_type": "code",
      "execution_count": 27,
      "metadata": {
        "id": "otUzY5J3hAqO",
        "colab": {
          "base_uri": "https://localhost:8080/"
        },
        "outputId": "b9f1b40f-3144-47a2-a107-dfeea3935d1f"
      },
      "outputs": [
        {
          "output_type": "execute_result",
          "data": {
            "text/plain": [
              "({'max_depth': 20,\n",
              "  'min_samples_leaf': 2,\n",
              "  'min_samples_split': 5,\n",
              "  'n_estimators': 350},\n",
              " 0.9889456469713409)"
            ]
          },
          "metadata": {},
          "execution_count": 27
        }
      ],
      "source": [
        "#@title 결과 : max_depth - 20, n_estimators - 350, min_samples_split - 5, min_samples_leaf - 2 \n",
        "rf_tuning(X, y, rf_params2)"
      ]
    },
    {
      "cell_type": "code",
      "execution_count": null,
      "metadata": {
        "id": "qeMud-PIhA5Z"
      },
      "outputs": [],
      "source": [
        "rf_tuning(X, y, rf_params3)"
      ]
    },
    {
      "cell_type": "code",
      "execution_count": 28,
      "metadata": {
        "id": "YVx3iZeVqjQp",
        "colab": {
          "base_uri": "https://localhost:8080/",
          "height": 373
        },
        "outputId": "d18104dd-a322-4ca5-8391-1713c1c27987"
      },
      "outputs": [
        {
          "output_type": "stream",
          "name": "stdout",
          "text": [
            "정확도: 0.9411\n",
            "정밀도: 0.9530\n",
            "재현율: 0.9108\n",
            "f1 score: 0.9314\n",
            "roc_auc_score: 0.9378\n"
          ]
        },
        {
          "output_type": "display_data",
          "data": {
            "text/plain": [
              "<Figure size 432x288 with 2 Axes>"
            ],
            "image/png": "[encoded data removed]"
          },
          "metadata": {
            "needs_background": "light"
          }
        }
      ],
      "source": [
        "# 조합으로 직접 다 다시하기 \n",
        "rf = RandomForestClassifier(n_estimators = 350, \n",
        "                            max_depth = 15,\n",
        "                            min_samples_split = 10,\n",
        "                            min_samples_leaf= 5)\n",
        "\n",
        "rf.fit(X, y)\n",
        "pred_rf = rf.predict(airline_test_X)\n",
        "\n",
        "evaluation(airline_test, pred_rf)"
      ]
    },
    {
      "cell_type": "code",
      "execution_count": 29,
      "metadata": {
        "id": "ad6cxKUbd1Bl",
        "colab": {
          "base_uri": "https://localhost:8080/"
        },
        "outputId": "ea9944d3-52c0-410f-c968-660849ffec67"
      },
      "outputs": [
        {
          "output_type": "execute_result",
          "data": {
            "text/plain": [
              "array([0.20030827, 0.05335318, 0.05055068, 0.0275553 , 0.02420217,\n",
              "       0.26981521, 0.0528208 , 0.09154179, 0.03924635, 0.07614099,\n",
              "       0.02698943, 0.0165027 , 0.02323822, 0.03075471, 0.00747686,\n",
              "       0.00950336])"
            ]
          },
          "metadata": {},
          "execution_count": 29
        }
      ],
      "source": [
        "rf.feature_importances_"
      ]
    },
    {
      "cell_type": "code",
      "execution_count": 38,
      "metadata": {
        "id": "lO7iSAOxd3XR"
      },
      "outputs": [],
      "source": [
        "rf.imp = pd.DataFrame({'satisfaction':X.columns, 'values':rf.feature_importances_})"
      ]
    },
    {
      "cell_type": "code",
      "execution_count": 39,
      "metadata": {
        "id": "3-8DER2Od0Ch",
        "colab": {
          "base_uri": "https://localhost:8080/",
          "height": 603
        },
        "outputId": "0c21b1db-3931-4884-c9ba-21297916b93d"
      },
      "outputs": [
        {
          "output_type": "execute_result",
          "data": {
            "text/plain": [
              "<matplotlib.axes._subplots.AxesSubplot at 0x7ff7083d6410>"
            ]
          },
          "metadata": {},
          "execution_count": 39
        },
        {
          "output_type": "display_data",
          "data": {
            "text/plain": [
              "<Figure size 1440x720 with 1 Axes>"
            ],
            "image/png": "[encoded data removed]"
          },
          "metadata": {
            "needs_background": "light"
          }
        }
      ],
      "source": [
        "#seaborn으로 시각화\n",
        "plt.figure(figsize=(20,10))\n",
        "sns.barplot(x=\"values\", y= \"satisfaction\",\n",
        "            data= rf.imp.sort_values(by='values', ascending=False).head(10))"
      ]
    }
  ],
  "metadata": {
    "accelerator": "GPU",
    "colab": {
      "provenance": [],
      "authorship_tag": "ABX9TyMYyl8vf49sLr4/+prvyhRy",
      "include_colab_link": true
    },
    "gpuClass": "standard",
    "kernelspec": {
      "display_name": "Python 3",
      "name": "python3"
    },
    "language_info": {
      "name": "python"
    }
  },
  "nbformat": 4,
  "nbformat_minor": 0
}